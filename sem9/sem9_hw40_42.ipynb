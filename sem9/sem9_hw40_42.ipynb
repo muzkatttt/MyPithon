{
  "cells": [
    {
      "cell_type": "markdown",
      "metadata": {
        "id": "EmjBQHO3bXZo"
      },
      "source": [
        "Домашнее задание к семинару 9. Задача 40. Работать с файлом california_housing_train.csv, который находится в папке sample_data. Определить среднюю стоимость дома, где кол-во людей от 0 до 500 (population)"
      ]
    },
    {
      "cell_type": "code",
      "execution_count": 6,
      "metadata": {
        "id": "i9BVAAgecZQW"
      },
      "outputs": [],
      "source": [
        "import pandas as pd\n",
        "f = pd.read_csv('sample_data/california_housing_train.csv')"
      ]
    },
    {
      "cell_type": "code",
      "execution_count": 7,
      "metadata": {
        "colab": {
          "base_uri": "https://localhost:8080/"
        },
        "id": "LSn3T8fbc2Cc",
        "outputId": "c9090807-a435-45f2-fa13-78cd6dfcbd26"
      },
      "outputs": [
        {
          "data": {
            "text/plain": [
              "169500.0"
            ]
          },
          "execution_count": 7,
          "metadata": {},
          "output_type": "execute_result"
        }
      ],
      "source": [
        "f[f['population'] <= 500]['median_house_value'].median()"
      ]
    },
    {
      "cell_type": "markdown",
      "metadata": {
        "id": "t5wwSV2iEGes"
      },
      "source": [
        "Задача 42. Узнать какая максимальная households в зоне минимального значения population"
      ]
    },
    {
      "cell_type": "code",
      "execution_count": 8,
      "metadata": {
        "id": "sOVpqQREEX3t"
      },
      "outputs": [],
      "source": [
        "import pandas as pd\n",
        "f = pd.read_csv('sample_data/california_housing_train.csv')"
      ]
    },
    {
      "cell_type": "code",
      "execution_count": 9,
      "metadata": {
        "colab": {
          "base_uri": "https://localhost:8080/"
        },
        "id": "Ig9NMPbcEaDi",
        "outputId": "5f2aa076-8e10-42fd-a0ff-f3a501defefb"
      },
      "outputs": [
        {
          "data": {
            "text/plain": [
              "3.0"
            ]
          },
          "execution_count": 9,
          "metadata": {},
          "output_type": "execute_result"
        }
      ],
      "source": [
        "f['population'].min()"
      ]
    },
    {
      "cell_type": "code",
      "execution_count": 11,
      "metadata": {
        "colab": {
          "base_uri": "https://localhost:8080/"
        },
        "id": "uKShX49GE5yQ",
        "outputId": "6ada2688-9ef3-4fc5-d2c2-76a29835ccbc"
      },
      "outputs": [
        {
          "data": {
            "text/plain": [
              "4.0"
            ]
          },
          "execution_count": 11,
          "metadata": {},
          "output_type": "execute_result"
        }
      ],
      "source": [
        "f[f['population'] == f['population'].min()]['households'].max()"
      ]
    }
  ],
  "metadata": {
    "colab": {
      "provenance": []
    },
    "kernelspec": {
      "display_name": "Python 3",
      "name": "python3"
    },
    "language_info": {
      "name": "python"
    }
  },
  "nbformat": 4,
  "nbformat_minor": 0
}
